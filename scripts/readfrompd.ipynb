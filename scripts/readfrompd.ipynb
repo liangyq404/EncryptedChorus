{
 "cells": [
  {
   "cell_type": "code",
   "execution_count": 62,
   "id": "45476d27",
   "metadata": {},
   "outputs": [],
   "source": [
    "import socket \n",
    "import time \n",
    "import sys\n"
   ]
  },
  {
   "cell_type": "code",
   "execution_count": null,
   "id": "97b34c7d",
   "metadata": {},
   "outputs": [],
   "source": [
    "sock = socket.socket(socket.AF_INET, socket.SOCK_STREAM)\n",
    "server_address = ('localhost', 2000)\n",
    "print(f'starting up on {server_address[0]} port {server_address[1]}')\n",
    "\n",
    "sock.bind(server_address)\n",
    "sock.listen(1)\n",
    "\n",
    "while True:\n",
    "    print('waiting for a connection')\n",
    "    connection, client_address = sock.accept()\n",
    "    try:\n",
    "        print('client connected:', client_address)\n",
    "        while True:\n",
    "            data = connection.recv(16)\n",
    "            data = data.decode(\"utf-8\")\n",
    "            data = data.replace('\\n', '').replace('\\t','').replace('\\r','').replace(';','')\n",
    "            print(f'received {data}')\n",
    "            if not data:\n",
    "                break\n",
    "    finally:\n",
    "        connection.close()"
   ]
  },
  {
   "cell_type": "code",
   "execution_count": null,
   "id": "f8adbb94",
   "metadata": {},
   "outputs": [],
   "source": []
  },
  {
   "cell_type": "code",
   "execution_count": null,
   "id": "376f74e7",
   "metadata": {},
   "outputs": [],
   "source": []
  }
 ],
 "metadata": {
  "kernelspec": {
   "display_name": "Python 3 (ipykernel)",
   "language": "python",
   "name": "python3"
  },
  "language_info": {
   "codemirror_mode": {
    "name": "ipython",
    "version": 3
   },
   "file_extension": ".py",
   "mimetype": "text/x-python",
   "name": "python",
   "nbconvert_exporter": "python",
   "pygments_lexer": "ipython3",
   "version": "3.9.7"
  }
 },
 "nbformat": 4,
 "nbformat_minor": 5
}
